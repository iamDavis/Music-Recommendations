{
 "cells": [
  {
   "cell_type": "code",
   "execution_count": null,
   "metadata": {
    "collapsed": true
   },
   "outputs": [],
   "source": [
    "lib_trackData = {}\n",
    "with open(\"/Users/whiplash/SJSU/Semester 2/CMPE 256/Project/Webscope_C15/track2/trackData2.txt\") as trackData:\n",
    "    for line in trackData:\n",
    "        [track_Id,track_detail] = line.strip(\"\\n\").split(\"|\",maxsplit = 1)\n",
    "        lib_trackData[track_Id] = track_detail\n",
    "\n",
    "with open(\"/Users/whiplash/SJSU/Semester 2/CMPE 256/Project/Webscope_C15/track2/Data/bTest_set1_Hierarchy.txt\",\"w\") as testHierarchy:\n",
    "    with open(\"/Users/whiplash/SJSU/Semester 2/CMPE 256/Project/Webscope_C15/track2/Data/bTest_set1.txt\") as testData:\n",
    "        for line in testData:\n",
    "            [cur_user,cur_track] = line.strip(\"\\n\").split(\"|\")\n",
    "            testHierarchy.write(cur_user+\"|\"+cur_track+\"|\"+lib_trackData[cur_track]+\"\\n\")\n",
    "#             print(cur_user)"
   ]
  }
 ],
 "metadata": {
  "kernelspec": {
   "display_name": "Python 3",
   "language": "python",
   "name": "python3"
  },
  "language_info": {
   "codemirror_mode": {
    "name": "ipython",
    "version": 3
   },
   "file_extension": ".py",
   "mimetype": "text/x-python",
   "name": "python",
   "nbconvert_exporter": "python",
   "pygments_lexer": "ipython3",
   "version": "3.6.2"
  }
 },
 "nbformat": 4,
 "nbformat_minor": 2
}
