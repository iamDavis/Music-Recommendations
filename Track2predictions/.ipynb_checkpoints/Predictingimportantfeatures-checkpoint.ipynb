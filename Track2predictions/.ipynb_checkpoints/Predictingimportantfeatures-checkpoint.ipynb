{
 "cells": [
  {
   "cell_type": "code",
   "execution_count": 1,
   "metadata": {
    "collapsed": true
   },
   "outputs": [],
   "source": [
    "##################################################################\n",
    "### Summary\n",
    "## Simply judge like or dislike by adding album and artist rating.\n",
    "\n",
    "##################################################################\n",
    "### Libraries & Predefined Functions\n",
    "## Load Libraries\n",
    "from operator import itemgetter\n",
    "import os"
   ]
  },
  {
   "cell_type": "code",
   "execution_count": 2,
   "metadata": {
    "collapsed": true
   },
   "outputs": [],
   "source": [
    "## Environment Variables\n",
    "RESULT_FILE = \"/Users/whiplash/SJSU/Semester 2/CMPE 256/Project/Webscope_C15/track2/Results/prediction1.txt\"\n",
    "ALBUMTRACK_SCORE_FILE = \"/Users/whiplash/SJSU/Semester 2/CMPE 256/Project/Webscope_C15/track2/Data/test_album_track_score.txt\"\n",
    "ARTISTALBUM_SCORE_FILE = \"/Users/whiplash/SJSU/Semester 2/CMPE 256/Project/Webscope_C15/track2/Data/test_artist_album_score.txt\"\n",
    "ARTISTTRACK_SCORE_FILE = \"/Users/whiplash/SJSU/Semester 2/CMPE 256/Project/Webscope_C15/track2/Data/test_artist_track_score.txt\"\n",
    "GENREALBUM_SCORE_FILE = \"/Users/whiplash/SJSU/Semester 2/CMPE 256/Project/Webscope_C15/track2/Data/test_genre_album_score.txt\"\n",
    "GENREARTIST_SCORE_FILE = \"/Users/whiplash/SJSU/Semester 2/CMPE 256/Project/Webscope_C15/track2/Data/test_genre_artist_score.txt\"\n",
    "GENRETRACK_SCORE_FILE = \"/Users/whiplash/SJSU/Semester 2/CMPE 256/Project/Webscope_C15/track2/Data/test_genre_track_score.txt\""
   ]
  },
  {
   "cell_type": "code",
   "execution_count": 3,
   "metadata": {
    "collapsed": true
   },
   "outputs": [],
   "source": [
    "TESTSET_SCORE_FILE = \"/Users/whiplash/SJSU/Semester 2/CMPE 256/Project/Webscope_C15/track2/TestData/test_set.txt\""
   ]
  },
  {
   "cell_type": "code",
   "execution_count": 9,
   "metadata": {},
   "outputs": [],
   "source": [
    "import pandas as pd\n",
    "\n",
    "testrecord = pd.read_csv('/Users/whiplash/SJSU/Semester 2/CMPE 256/Project/Webscope_C15/track2/TestData/test_set.txt', \n",
    "                          header=None, delimiter='|', names=['userId', 'songId'])"
   ]
  },
  {
   "cell_type": "code",
   "execution_count": 10,
   "metadata": {},
   "outputs": [],
   "source": [
    "X = []\n",
    "for i, row in testrecord.iterrows():\n",
    "    x = (row['userId'], row['songId'])\n",
    "    X.append(x)"
   ]
  },
  {
   "cell_type": "code",
   "execution_count": 105,
   "metadata": {},
   "outputs": [
    {
     "name": "stdout",
     "output_type": "stream",
     "text": [
      "[(1, 188135), (1, 250273), (1, 60428), (1, 187953), (1, 108088), (1, 52615), (3, 170331), (3, 53881), (3, 92079), (3, 1199), (3, 72035), (3, 164737), (5, 230811), (5, 223222), (5, 11786), (5, 16367), (5, 76149), (5, 234512), (9, 213659), (9, 195174), (9, 119128), (9, 177509), (9, 150618), (9, 267024), (10, 136562), (10, 101910), (10, 283051), (10, 187560), (10, 47528), (10, 120383)]\n",
      "607032\n"
     ]
    }
   ],
   "source": [
    "print(X[:30])\n",
    "print(len(X))"
   ]
  },
  {
   "cell_type": "code",
   "execution_count": 122,
   "metadata": {},
   "outputs": [],
   "source": [
    "scorelist = []\n",
    "#albumtrack prediction\n",
    "with open(ALBUMTRACK_SCORE_FILE) as albumtrackdata:\n",
    "    for line in albumtrackdata:\n",
    "        score = line.strip(\"\\n\").split(\"|\")\n",
    "        if score[2]!=\"None\":\n",
    "            scorelist.append(score[3:])\n",
    "        else:\n",
    "            scorelist.append(['0'])"
   ]
  },
  {
   "cell_type": "code",
   "execution_count": 123,
   "metadata": {},
   "outputs": [
    {
     "name": "stdout",
     "output_type": "stream",
     "text": [
      "607032\n"
     ]
    }
   ],
   "source": [
    "print(len(scorelist))"
   ]
  },
  {
   "cell_type": "code",
   "execution_count": 124,
   "metadata": {},
   "outputs": [],
   "source": [
    "#result\n",
    "TEST_DATA_FILE = \"/Users/whiplash/SJSU/Semester 2/CMPE 256/Project/Webscope_C15/track2/testIdx2.txt\"\n",
    "\n",
    "testresult = []\n",
    "\n",
    "with open(TEST_DATA_FILE) as testData:\n",
    "    for line in testData:\n",
    "        # \"|\" represent user information\n",
    "        if \"|\" in line:\n",
    "            [cur_user, cur_track] = line.strip(\"\\n\").split(\"|\")\n",
    "        else:\n",
    "            data = line.split()\n",
    "            cur_track = data[0]\n",
    "            result = data[1]\n",
    "            testresult.append(result)"
   ]
  },
  {
   "cell_type": "code",
   "execution_count": 125,
   "metadata": {},
   "outputs": [
    {
     "data": {
      "text/plain": [
       "['-1', '90', '-1', '90', '-1', '90']"
      ]
     },
     "execution_count": 125,
     "metadata": {},
     "output_type": "execute_result"
    }
   ],
   "source": [
    "testresult[:6]"
   ]
  },
  {
   "cell_type": "code",
   "execution_count": 126,
   "metadata": {},
   "outputs": [],
   "source": [
    "for index, item in enumerate(testresult):\n",
    "    if item == '-1':\n",
    "        testresult[index] = 0\n",
    "    else:\n",
    "        testresult[index] = 1"
   ]
  },
  {
   "cell_type": "code",
   "execution_count": 127,
   "metadata": {},
   "outputs": [
    {
     "name": "stdout",
     "output_type": "stream",
     "text": [
      "[['0'], ['None'], ['None'], ['None'], ['None'], ['None'], ['None'], ['0', '70', '90', '0', '0'], ['None'], ['0']]\n",
      "607032\n"
     ]
    }
   ],
   "source": [
    "print(scorelist[:10])\n",
    "print(len(scorelist))"
   ]
  },
  {
   "cell_type": "code",
   "execution_count": 129,
   "metadata": {},
   "outputs": [],
   "source": [
    "scorelist_modified = []\n",
    "for index, item in enumerate(scorelist):\n",
    "    listlength = len(item)\n",
    "#     print(type(item))\n",
    "    if listlength < 2:\n",
    "        if item[0] == \"None\":\n",
    "            scorelist_modified.append(0)\n",
    "        else:\n",
    "            for ind, it in enumerate(item):\n",
    "                item[ind] = int(it)\n",
    "            if item[ind] > 50 :\n",
    "                scorelist_modified.append(1)\n",
    "            else:\n",
    "                scorelist_modified.append(0)\n",
    "    else:\n",
    "        high = 0\n",
    "        average = 0\n",
    "        for ind, it in enumerate(item):\n",
    "            item[ind] = int(it)\n",
    "            sum += item[ind]\n",
    "        average = sum/listlength\n",
    "        if average > 50 :\n",
    "            scorelist_modified.append(1)\n",
    "        else:\n",
    "            scorelist_modified.append(0)"
   ]
  },
  {
   "cell_type": "code",
   "execution_count": 130,
   "metadata": {},
   "outputs": [
    {
     "name": "stdout",
     "output_type": "stream",
     "text": [
      "[0, 0, 0, 0, 0, 0, 0, 1, 0, 0, 1, 0, 0, 0, 0, 0, 0, 0, 1, 0, 0, 0, 0, 1, 0, 0, 1, 0, 0, 1, 0, 0, 0, 0, 0, 0, 0, 0, 0, 0, 0, 0, 0, 0, 0, 0, 0, 0, 1, 0]\n",
      "607032\n"
     ]
    }
   ],
   "source": [
    "print(scorelist_modified[:50])\n",
    "print(len(scorelist_modified))"
   ]
  },
  {
   "cell_type": "code",
   "execution_count": 131,
   "metadata": {
    "collapsed": true
   },
   "outputs": [],
   "source": [
    "from sklearn.metrics import mean_absolute_error"
   ]
  },
  {
   "cell_type": "code",
   "execution_count": 133,
   "metadata": {},
   "outputs": [
    {
     "name": "stdout",
     "output_type": "stream",
     "text": [
      "rmse score: 0.5920\n"
     ]
    }
   ],
   "source": [
    "from math import sqrt\n",
    "\n",
    "print(\"rmse score: %.4f\" % sqrt(mean_absolute_error(testresult, scorelist_modified)))"
   ]
  },
  {
   "cell_type": "code",
   "execution_count": null,
   "metadata": {
    "collapsed": true
   },
   "outputs": [],
   "source": []
  }
 ],
 "metadata": {
  "kernelspec": {
   "display_name": "Python 3",
   "language": "python",
   "name": "python3"
  },
  "language_info": {
   "codemirror_mode": {
    "name": "ipython",
    "version": 3
   },
   "file_extension": ".py",
   "mimetype": "text/x-python",
   "name": "python",
   "nbconvert_exporter": "python",
   "pygments_lexer": "ipython3",
   "version": "3.6.2"
  }
 },
 "nbformat": 4,
 "nbformat_minor": 2
}
