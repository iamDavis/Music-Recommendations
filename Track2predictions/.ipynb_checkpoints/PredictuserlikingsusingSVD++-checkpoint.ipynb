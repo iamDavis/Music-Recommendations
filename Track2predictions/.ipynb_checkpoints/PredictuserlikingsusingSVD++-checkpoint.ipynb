{
 "cells": [
  {
   "cell_type": "code",
   "execution_count": 1,
   "metadata": {
    "collapsed": true
   },
   "outputs": [],
   "source": [
    "##################################################################\n",
    "### Summary\n",
    "## Simply judge like or dislike by adding album and artist rating.\n",
    "\n",
    "##################################################################\n",
    "### Libraries & Predefined Functions\n",
    "## Load Libraries\n",
    "from operator import itemgetter\n",
    "import os"
   ]
  },
  {
   "cell_type": "code",
   "execution_count": 2,
   "metadata": {
    "collapsed": true
   },
   "outputs": [],
   "source": [
    "## Environment Variables\n",
    "RESULT_FILE = \"/Users/whiplash/SJSU/Semester 2/CMPE 256/Project/Webscope_C15/track2/Results/prediction1.txt\"\n",
    "ALBUMTRACK_SCORE_FILE = \"/Users/whiplash/SJSU/Semester 2/CMPE 256/Project/Webscope_C15/track2/Data/test_album_track_score.txt\"\n",
    "ARTISTALBUM_SCORE_FILE = \"/Users/whiplash/SJSU/Semester 2/CMPE 256/Project/Webscope_C15/track2/Data/test_artist_album_score.txt\"\n",
    "ARTISTTRACK_SCORE_FILE = \"/Users/whiplash/SJSU/Semester 2/CMPE 256/Project/Webscope_C15/track2/Data/test_artist_track_score.txt\"\n",
    "GENREALBUM_SCORE_FILE = \"/Users/whiplash/SJSU/Semester 2/CMPE 256/Project/Webscope_C15/track2/Data/test_genre_album_score.txt\"\n",
    "GENREARTIST_SCORE_FILE = \"/Users/whiplash/SJSU/Semester 2/CMPE 256/Project/Webscope_C15/track2/Data/test_genre_artist_score.txt\"\n",
    "GENRETRACK_SCORE_FILE = \"/Users/whiplash/SJSU/Semester 2/CMPE 256/Project/Webscope_C15/track2/Data/test_genre_track_score.txt\""
   ]
  },
  {
   "cell_type": "code",
   "execution_count": 3,
   "metadata": {
    "collapsed": true
   },
   "outputs": [],
   "source": [
    "TESTSET_SCORE_FILE = \"/Users/whiplash/SJSU/Semester 2/CMPE 256/Project/Webscope_C15/track2/TestData/test_set.txt\""
   ]
  },
  {
   "cell_type": "code",
   "execution_count": 4,
   "metadata": {
    "collapsed": true
   },
   "outputs": [],
   "source": [
    "import pandas as pd\n",
    "\n",
    "testrecord = pd.read_csv('/Users/whiplash/SJSU/Semester 2/CMPE 256/Project/Webscope_C15/track2/TestData/test_set.txt', \n",
    "                          header=None, delimiter='|', names=['userId', 'songId'])"
   ]
  },
  {
   "cell_type": "code",
   "execution_count": 5,
   "metadata": {
    "collapsed": true
   },
   "outputs": [],
   "source": [
    "X = []\n",
    "for i, row in testrecord.iterrows():\n",
    "    x = (row['userId'], row['songId'])\n",
    "    X.append(x)"
   ]
  },
  {
   "cell_type": "code",
   "execution_count": 21,
   "metadata": {},
   "outputs": [
    {
     "name": "stdout",
     "output_type": "stream",
     "text": [
      "[(1, 188135), (1, 250273), (1, 60428), (1, 187953), (1, 108088), (1, 52615), (3, 170331), (3, 53881), (3, 92079), (3, 1199), (3, 72035), (3, 164737), (5, 230811), (5, 223222), (5, 11786), (5, 16367), (5, 76149), (5, 234512), (9, 213659), (9, 195174), (9, 119128), (9, 177509), (9, 150618), (9, 267024), (10, 136562), (10, 101910), (10, 283051), (10, 187560), (10, 47528), (10, 120383)]\n",
      "<class 'list'>\n"
     ]
    }
   ],
   "source": [
    "print(X[:30])\n",
    "print(type(X))"
   ]
  },
  {
   "cell_type": "code",
   "execution_count": 30,
   "metadata": {},
   "outputs": [],
   "source": [
    "scorelist = []\n",
    "records = []\n",
    "#albumtrack prediction\n",
    "with open(ALBUMTRACK_SCORE_FILE) as albumtrackdata:\n",
    "    for line in albumtrackdata:\n",
    "        score = line.strip(\"\\n\").split(\"|\")\n",
    "        if score[2]!=\"None\":\n",
    "            scorelist.append(score[3:])\n",
    "        else:\n",
    "            scorelist.append(['0'])\n",
    "        x = score[0], score[1]\n",
    "        records.append(x)\n",
    "\n",
    "        \n",
    "recordsint = [list(map(int, x)) for x in records]\n",
    "\n",
    "scorelist_modified = []\n",
    "for index, item in enumerate(scorelist):\n",
    "    listlength = len(item)\n",
    "#     print(type(item))\n",
    "    if listlength < 2:\n",
    "        if item[0] == \"None\":\n",
    "            scorelist_modified.append(0)\n",
    "        else:\n",
    "            for ind, it in enumerate(item):\n",
    "                item[ind] = int(it)\n",
    "            if item[ind] > 50 :\n",
    "                scorelist_modified.append(1)\n",
    "            else:\n",
    "                scorelist_modified.append(0)\n",
    "    else:\n",
    "        high = 0\n",
    "        average = 0\n",
    "        total = 0\n",
    "        for ind, it in enumerate(item):\n",
    "            item[ind] = int(it)\n",
    "            total += item[ind]\n",
    "        average = total/listlength\n",
    "        if average > 50 :\n",
    "            scorelist_modified.append(1)\n",
    "        else:\n",
    "            scorelist_modified.append(0)"
   ]
  },
  {
   "cell_type": "code",
   "execution_count": 34,
   "metadata": {},
   "outputs": [
    {
     "data": {
      "text/plain": [
       "188135"
      ]
     },
     "execution_count": 34,
     "metadata": {},
     "output_type": "execute_result"
    }
   ],
   "source": [
    "recordsint[0][1]"
   ]
  },
  {
   "cell_type": "code",
   "execution_count": 35,
   "metadata": {},
   "outputs": [],
   "source": [
    "trainset = []\n",
    "for x in range(len(recordsint)):\n",
    "    i = (recordsint[x][0],recordsint[x][1],scorelist_modified[x])\n",
    "    trainset.append(i)"
   ]
  },
  {
   "cell_type": "code",
   "execution_count": 40,
   "metadata": {},
   "outputs": [],
   "source": [
    "store = open(\"/Users/whiplash/SJSU/Semester 2/CMPE 256/Project/Webscope_C15/track2/TrainingData/train_album_track.txt\", \"w\")\n",
    "for x in range(len(recordsint)):\n",
    "    store.write(str(recordsint[x][0]) +',' + str(recordsint[x][1]) +',' + str(scorelist_modified[x]) +'\\n')\n",
    "store.close()"
   ]
  },
  {
   "cell_type": "code",
   "execution_count": 43,
   "metadata": {},
   "outputs": [
    {
     "ename": "TypeError",
     "evalue": "load_from_file() missing 1 required positional argument: 'reader'",
     "output_type": "error",
     "traceback": [
      "\u001b[0;31m---------------------------------------------------------------------------\u001b[0m",
      "\u001b[0;31mTypeError\u001b[0m                                 Traceback (most recent call last)",
      "\u001b[0;32m<ipython-input-43-b215cdaf2129>\u001b[0m in \u001b[0;36m<module>\u001b[0;34m()\u001b[0m\n\u001b[1;32m      3\u001b[0m \u001b[0malgo\u001b[0m \u001b[0;34m=\u001b[0m \u001b[0mSVD\u001b[0m\u001b[0;34m(\u001b[0m\u001b[0;34m)\u001b[0m\u001b[0;34m\u001b[0m\u001b[0m\n\u001b[1;32m      4\u001b[0m \u001b[0mfile_path\u001b[0m \u001b[0;34m=\u001b[0m \u001b[0;34m'/Users/whiplash/SJSU/Semester 2/CMPE 256/Project/Webscope_C15/track2/TrainingData/train_album_track.txt'\u001b[0m \u001b[0;31m# change this\u001b[0m\u001b[0;34m\u001b[0m\u001b[0m\n\u001b[0;32m----> 5\u001b[0;31m \u001b[0mdata\u001b[0m \u001b[0;34m=\u001b[0m \u001b[0mDataset\u001b[0m\u001b[0;34m.\u001b[0m\u001b[0mload_from_file\u001b[0m\u001b[0;34m(\u001b[0m\u001b[0mfile_path\u001b[0m\u001b[0;34m)\u001b[0m\u001b[0;34m\u001b[0m\u001b[0m\n\u001b[0m",
      "\u001b[0;31mTypeError\u001b[0m: load_from_file() missing 1 required positional argument: 'reader'"
     ]
    }
   ],
   "source": [
    "from surprise import SVD, evaluate\n",
    "from surprise import dataset\n",
    "\n",
    "algo = SVD()\n",
    "file_path = '/Users/whiplash/SJSU/Semester 2/CMPE 256/Project/Webscope_C15/track2/TrainingData/train_album_track.txt' # change this\n",
    "reader = Reader(line_format='user item rating', sep=',')\n",
    "data = Dataset.load_from_file(file_path, reader=reader)"
   ]
  },
  {
   "cell_type": "code",
   "execution_count": 37,
   "metadata": {},
   "outputs": [
    {
     "name": "stderr",
     "output_type": "stream",
     "text": [
      "/Users/whiplash/anaconda3/lib/python3.6/site-packages/surprise/prediction_algorithms/algo_base.py:51: UserWarning: train() is deprecated. Use fit() instead\n",
      "  warnings.warn('train() is deprecated. Use fit() instead', UserWarning)\n"
     ]
    },
    {
     "ename": "AttributeError",
     "evalue": "'list' object has no attribute 'global_mean'",
     "output_type": "error",
     "traceback": [
      "\u001b[0;31m---------------------------------------------------------------------------\u001b[0m",
      "\u001b[0;31mAttributeError\u001b[0m                            Traceback (most recent call last)",
      "\u001b[0;32m<ipython-input-37-06962d782094>\u001b[0m in \u001b[0;36m<module>\u001b[0;34m()\u001b[0m\n\u001b[1;32m      3\u001b[0m \u001b[0;32mfrom\u001b[0m \u001b[0msurprise\u001b[0m \u001b[0;32mimport\u001b[0m \u001b[0mSVD\u001b[0m\u001b[0;34m,\u001b[0m \u001b[0mevaluate\u001b[0m\u001b[0;34m\u001b[0m\u001b[0m\n\u001b[1;32m      4\u001b[0m \u001b[0malgo\u001b[0m \u001b[0;34m=\u001b[0m \u001b[0mSVD\u001b[0m\u001b[0;34m(\u001b[0m\u001b[0;34m)\u001b[0m\u001b[0;34m\u001b[0m\u001b[0m\n\u001b[0;32m----> 5\u001b[0;31m \u001b[0malgo\u001b[0m\u001b[0;34m.\u001b[0m\u001b[0mtrain\u001b[0m\u001b[0;34m(\u001b[0m\u001b[0mtrainset\u001b[0m\u001b[0;34m)\u001b[0m\u001b[0;34m\u001b[0m\u001b[0m\n\u001b[0m",
      "\u001b[0;32m~/anaconda3/lib/python3.6/site-packages/surprise/prediction_algorithms/algo_base.py\u001b[0m in \u001b[0;36mtrain\u001b[0;34m(self, trainset)\u001b[0m\n\u001b[1;32m     52\u001b[0m \u001b[0;34m\u001b[0m\u001b[0m\n\u001b[1;32m     53\u001b[0m         \u001b[0mself\u001b[0m\u001b[0;34m.\u001b[0m\u001b[0mskip_train\u001b[0m \u001b[0;34m=\u001b[0m \u001b[0;32mTrue\u001b[0m\u001b[0;34m\u001b[0m\u001b[0m\n\u001b[0;32m---> 54\u001b[0;31m         \u001b[0mself\u001b[0m\u001b[0;34m.\u001b[0m\u001b[0mfit\u001b[0m\u001b[0;34m(\u001b[0m\u001b[0mtrainset\u001b[0m\u001b[0;34m)\u001b[0m\u001b[0;34m\u001b[0m\u001b[0m\n\u001b[0m\u001b[1;32m     55\u001b[0m \u001b[0;34m\u001b[0m\u001b[0m\n\u001b[1;32m     56\u001b[0m         \u001b[0;32mreturn\u001b[0m \u001b[0mself\u001b[0m\u001b[0;34m\u001b[0m\u001b[0m\n",
      "\u001b[0;32m~/anaconda3/lib/python3.6/site-packages/surprise/prediction_algorithms/matrix_factorization.pyx\u001b[0m in \u001b[0;36msurprise.prediction_algorithms.matrix_factorization.SVD.fit\u001b[0;34m()\u001b[0m\n",
      "\u001b[0;32m~/anaconda3/lib/python3.6/site-packages/surprise/prediction_algorithms/matrix_factorization.pyx\u001b[0m in \u001b[0;36msurprise.prediction_algorithms.matrix_factorization.SVD.sgd\u001b[0;34m()\u001b[0m\n",
      "\u001b[0;31mAttributeError\u001b[0m: 'list' object has no attribute 'global_mean'"
     ]
    }
   ],
   "source": [
    "#train the dataset using ALBUMTRACK_SCORE_FILE and predict likings\n",
    "\n",
    "\n",
    "algo.train(trainset)"
   ]
  },
  {
   "cell_type": "code",
   "execution_count": 124,
   "metadata": {
    "collapsed": true
   },
   "outputs": [],
   "source": [
    "#result\n",
    "TEST_DATA_FILE = \"/Users/whiplash/SJSU/Semester 2/CMPE 256/Project/Webscope_C15/track2/testIdx2.txt\"\n",
    "\n",
    "testresult = []\n",
    "\n",
    "with open(TEST_DATA_FILE) as testData:\n",
    "    for line in testData:\n",
    "        # \"|\" represent user information\n",
    "        if \"|\" in line:\n",
    "            [cur_user, cur_track] = line.strip(\"\\n\").split(\"|\")\n",
    "        else:\n",
    "            data = line.split()\n",
    "            cur_track = data[0]\n",
    "            result = data[1]\n",
    "            testresult.append(result)"
   ]
  },
  {
   "cell_type": "code",
   "execution_count": 125,
   "metadata": {},
   "outputs": [
    {
     "data": {
      "text/plain": [
       "['-1', '90', '-1', '90', '-1', '90']"
      ]
     },
     "execution_count": 125,
     "metadata": {},
     "output_type": "execute_result"
    }
   ],
   "source": [
    "testresult[:6]"
   ]
  },
  {
   "cell_type": "code",
   "execution_count": 126,
   "metadata": {
    "collapsed": true
   },
   "outputs": [],
   "source": [
    "for index, item in enumerate(testresult):\n",
    "    if item == '-1':\n",
    "        testresult[index] = 0\n",
    "    else:\n",
    "        testresult[index] = 1"
   ]
  },
  {
   "cell_type": "code",
   "execution_count": 129,
   "metadata": {
    "collapsed": true
   },
   "outputs": [],
   "source": []
  },
  {
   "cell_type": "code",
   "execution_count": 131,
   "metadata": {
    "collapsed": true
   },
   "outputs": [],
   "source": [
    "from sklearn.metrics import mean_absolute_error"
   ]
  },
  {
   "cell_type": "code",
   "execution_count": 133,
   "metadata": {},
   "outputs": [
    {
     "name": "stdout",
     "output_type": "stream",
     "text": [
      "rmse score: 0.5920\n"
     ]
    }
   ],
   "source": [
    "from math import sqrt\n",
    "\n",
    "print(\"rmse score: %.4f\" % sqrt(mean_absolute_error(testresult, scorelist_modified)))"
   ]
  },
  {
   "cell_type": "code",
   "execution_count": 134,
   "metadata": {
    "collapsed": true
   },
   "outputs": [],
   "source": []
  },
  {
   "cell_type": "code",
   "execution_count": null,
   "metadata": {
    "collapsed": true
   },
   "outputs": [],
   "source": []
  }
 ],
 "metadata": {
  "kernelspec": {
   "display_name": "Python 3",
   "language": "python",
   "name": "python3"
  },
  "language_info": {
   "codemirror_mode": {
    "name": "ipython",
    "version": 3
   },
   "file_extension": ".py",
   "mimetype": "text/x-python",
   "name": "python",
   "nbconvert_exporter": "python",
   "pygments_lexer": "ipython3",
   "version": "3.6.2"
  }
 },
 "nbformat": 4,
 "nbformat_minor": 2
}
